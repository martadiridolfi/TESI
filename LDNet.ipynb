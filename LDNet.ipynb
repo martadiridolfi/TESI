{
  "nbformat": 4,
  "nbformat_minor": 0,
  "metadata": {
    "colab": {
      "provenance": [],
      "gpuType": "T4",
      "mount_file_id": "1wcxEvifm-YbgU8kmigrFQI714mPBYWya",
      "authorship_tag": "ABX9TyMkTZdHBOvX5QprELz7YSd5",
      "include_colab_link": true
    },
    "kernelspec": {
      "name": "python3",
      "display_name": "Python 3"
    },
    "language_info": {
      "name": "python"
    },
    "accelerator": "GPU"
  },
  "cells": [
    {
      "cell_type": "markdown",
      "metadata": {
        "id": "view-in-github",
        "colab_type": "text"
      },
      "source": [
        "<a href=\"https://colab.research.google.com/github/martadiridolfi/TESI/blob/main/LDNet.ipynb\" target=\"_parent\"><img src=\"https://colab.research.google.com/assets/colab-badge.svg\" alt=\"Open In Colab\"/></a>"
      ]
    },
    {
      "cell_type": "markdown",
      "source": [
        "## **Import modules**"
      ],
      "metadata": {
        "id": "OspvbrNxVhG1"
      }
    },
    {
      "cell_type": "code",
      "execution_count": 4,
      "metadata": {
        "colab": {
          "base_uri": "https://localhost:8080/",
          "height": 405
        },
        "id": "p-UmgnjnTPOT",
        "outputId": "f8de1487-2f43-41b4-8020-3e93722d6bdd"
      },
      "outputs": [
        {
          "output_type": "display_data",
          "data": {
            "text/plain": [
              "<IPython.core.display.HTML object>"
            ],
            "text/html": [
              "\n",
              "     <input type=\"file\" id=\"files-f0df87ab-a50f-4c33-b205-26252c0ba8d6\" name=\"files[]\" multiple disabled\n",
              "        style=\"border:none\" />\n",
              "     <output id=\"result-f0df87ab-a50f-4c33-b205-26252c0ba8d6\">\n",
              "      Upload widget is only available when the cell has been executed in the\n",
              "      current browser session. Please rerun this cell to enable.\n",
              "      </output>\n",
              "      <script>// Copyright 2017 Google LLC\n",
              "//\n",
              "// Licensed under the Apache License, Version 2.0 (the \"License\");\n",
              "// you may not use this file except in compliance with the License.\n",
              "// You may obtain a copy of the License at\n",
              "//\n",
              "//      http://www.apache.org/licenses/LICENSE-2.0\n",
              "//\n",
              "// Unless required by applicable law or agreed to in writing, software\n",
              "// distributed under the License is distributed on an \"AS IS\" BASIS,\n",
              "// WITHOUT WARRANTIES OR CONDITIONS OF ANY KIND, either express or implied.\n",
              "// See the License for the specific language governing permissions and\n",
              "// limitations under the License.\n",
              "\n",
              "/**\n",
              " * @fileoverview Helpers for google.colab Python module.\n",
              " */\n",
              "(function(scope) {\n",
              "function span(text, styleAttributes = {}) {\n",
              "  const element = document.createElement('span');\n",
              "  element.textContent = text;\n",
              "  for (const key of Object.keys(styleAttributes)) {\n",
              "    element.style[key] = styleAttributes[key];\n",
              "  }\n",
              "  return element;\n",
              "}\n",
              "\n",
              "// Max number of bytes which will be uploaded at a time.\n",
              "const MAX_PAYLOAD_SIZE = 100 * 1024;\n",
              "\n",
              "function _uploadFiles(inputId, outputId) {\n",
              "  const steps = uploadFilesStep(inputId, outputId);\n",
              "  const outputElement = document.getElementById(outputId);\n",
              "  // Cache steps on the outputElement to make it available for the next call\n",
              "  // to uploadFilesContinue from Python.\n",
              "  outputElement.steps = steps;\n",
              "\n",
              "  return _uploadFilesContinue(outputId);\n",
              "}\n",
              "\n",
              "// This is roughly an async generator (not supported in the browser yet),\n",
              "// where there are multiple asynchronous steps and the Python side is going\n",
              "// to poll for completion of each step.\n",
              "// This uses a Promise to block the python side on completion of each step,\n",
              "// then passes the result of the previous step as the input to the next step.\n",
              "function _uploadFilesContinue(outputId) {\n",
              "  const outputElement = document.getElementById(outputId);\n",
              "  const steps = outputElement.steps;\n",
              "\n",
              "  const next = steps.next(outputElement.lastPromiseValue);\n",
              "  return Promise.resolve(next.value.promise).then((value) => {\n",
              "    // Cache the last promise value to make it available to the next\n",
              "    // step of the generator.\n",
              "    outputElement.lastPromiseValue = value;\n",
              "    return next.value.response;\n",
              "  });\n",
              "}\n",
              "\n",
              "/**\n",
              " * Generator function which is called between each async step of the upload\n",
              " * process.\n",
              " * @param {string} inputId Element ID of the input file picker element.\n",
              " * @param {string} outputId Element ID of the output display.\n",
              " * @return {!Iterable<!Object>} Iterable of next steps.\n",
              " */\n",
              "function* uploadFilesStep(inputId, outputId) {\n",
              "  const inputElement = document.getElementById(inputId);\n",
              "  inputElement.disabled = false;\n",
              "\n",
              "  const outputElement = document.getElementById(outputId);\n",
              "  outputElement.innerHTML = '';\n",
              "\n",
              "  const pickedPromise = new Promise((resolve) => {\n",
              "    inputElement.addEventListener('change', (e) => {\n",
              "      resolve(e.target.files);\n",
              "    });\n",
              "  });\n",
              "\n",
              "  const cancel = document.createElement('button');\n",
              "  inputElement.parentElement.appendChild(cancel);\n",
              "  cancel.textContent = 'Cancel upload';\n",
              "  const cancelPromise = new Promise((resolve) => {\n",
              "    cancel.onclick = () => {\n",
              "      resolve(null);\n",
              "    };\n",
              "  });\n",
              "\n",
              "  // Wait for the user to pick the files.\n",
              "  const files = yield {\n",
              "    promise: Promise.race([pickedPromise, cancelPromise]),\n",
              "    response: {\n",
              "      action: 'starting',\n",
              "    }\n",
              "  };\n",
              "\n",
              "  cancel.remove();\n",
              "\n",
              "  // Disable the input element since further picks are not allowed.\n",
              "  inputElement.disabled = true;\n",
              "\n",
              "  if (!files) {\n",
              "    return {\n",
              "      response: {\n",
              "        action: 'complete',\n",
              "      }\n",
              "    };\n",
              "  }\n",
              "\n",
              "  for (const file of files) {\n",
              "    const li = document.createElement('li');\n",
              "    li.append(span(file.name, {fontWeight: 'bold'}));\n",
              "    li.append(span(\n",
              "        `(${file.type || 'n/a'}) - ${file.size} bytes, ` +\n",
              "        `last modified: ${\n",
              "            file.lastModifiedDate ? file.lastModifiedDate.toLocaleDateString() :\n",
              "                                    'n/a'} - `));\n",
              "    const percent = span('0% done');\n",
              "    li.appendChild(percent);\n",
              "\n",
              "    outputElement.appendChild(li);\n",
              "\n",
              "    const fileDataPromise = new Promise((resolve) => {\n",
              "      const reader = new FileReader();\n",
              "      reader.onload = (e) => {\n",
              "        resolve(e.target.result);\n",
              "      };\n",
              "      reader.readAsArrayBuffer(file);\n",
              "    });\n",
              "    // Wait for the data to be ready.\n",
              "    let fileData = yield {\n",
              "      promise: fileDataPromise,\n",
              "      response: {\n",
              "        action: 'continue',\n",
              "      }\n",
              "    };\n",
              "\n",
              "    // Use a chunked sending to avoid message size limits. See b/62115660.\n",
              "    let position = 0;\n",
              "    do {\n",
              "      const length = Math.min(fileData.byteLength - position, MAX_PAYLOAD_SIZE);\n",
              "      const chunk = new Uint8Array(fileData, position, length);\n",
              "      position += length;\n",
              "\n",
              "      const base64 = btoa(String.fromCharCode.apply(null, chunk));\n",
              "      yield {\n",
              "        response: {\n",
              "          action: 'append',\n",
              "          file: file.name,\n",
              "          data: base64,\n",
              "        },\n",
              "      };\n",
              "\n",
              "      let percentDone = fileData.byteLength === 0 ?\n",
              "          100 :\n",
              "          Math.round((position / fileData.byteLength) * 100);\n",
              "      percent.textContent = `${percentDone}% done`;\n",
              "\n",
              "    } while (position < fileData.byteLength);\n",
              "  }\n",
              "\n",
              "  // All done.\n",
              "  yield {\n",
              "    response: {\n",
              "      action: 'complete',\n",
              "    }\n",
              "  };\n",
              "}\n",
              "\n",
              "scope.google = scope.google || {};\n",
              "scope.google.colab = scope.google.colab || {};\n",
              "scope.google.colab._files = {\n",
              "  _uploadFiles,\n",
              "  _uploadFilesContinue,\n",
              "};\n",
              "})(self);\n",
              "</script> "
            ]
          },
          "metadata": {}
        },
        {
          "output_type": "error",
          "ename": "KeyboardInterrupt",
          "evalue": "",
          "traceback": [
            "\u001b[0;31m---------------------------------------------------------------------------\u001b[0m",
            "\u001b[0;31mKeyboardInterrupt\u001b[0m                         Traceback (most recent call last)",
            "\u001b[0;32m<ipython-input-4-543f95b5786d>\u001b[0m in \u001b[0;36m<cell line: 14>\u001b[0;34m()\u001b[0m\n\u001b[1;32m     12\u001b[0m \u001b[0;34m\u001b[0m\u001b[0m\n\u001b[1;32m     13\u001b[0m \u001b[0;32mfrom\u001b[0m \u001b[0mgoogle\u001b[0m\u001b[0;34m.\u001b[0m\u001b[0mcolab\u001b[0m \u001b[0;32mimport\u001b[0m \u001b[0mfiles\u001b[0m\u001b[0;34m\u001b[0m\u001b[0;34m\u001b[0m\u001b[0m\n\u001b[0;32m---> 14\u001b[0;31m \u001b[0muploaded\u001b[0m \u001b[0;34m=\u001b[0m \u001b[0mfiles\u001b[0m\u001b[0;34m.\u001b[0m\u001b[0mupload\u001b[0m\u001b[0;34m(\u001b[0m\u001b[0;34m)\u001b[0m\u001b[0;34m\u001b[0m\u001b[0;34m\u001b[0m\u001b[0m\n\u001b[0m\u001b[1;32m     15\u001b[0m \u001b[0;34m\u001b[0m\u001b[0m\n\u001b[1;32m     16\u001b[0m \u001b[0;32mimport\u001b[0m \u001b[0mutils\u001b[0m\u001b[0;34m\u001b[0m\u001b[0;34m\u001b[0m\u001b[0m\n",
            "\u001b[0;32m/usr/local/lib/python3.10/dist-packages/google/colab/files.py\u001b[0m in \u001b[0;36mupload\u001b[0;34m()\u001b[0m\n\u001b[1;32m     67\u001b[0m   \"\"\"\n\u001b[1;32m     68\u001b[0m \u001b[0;34m\u001b[0m\u001b[0m\n\u001b[0;32m---> 69\u001b[0;31m   \u001b[0muploaded_files\u001b[0m \u001b[0;34m=\u001b[0m \u001b[0m_upload_files\u001b[0m\u001b[0;34m(\u001b[0m\u001b[0mmultiple\u001b[0m\u001b[0;34m=\u001b[0m\u001b[0;32mTrue\u001b[0m\u001b[0;34m)\u001b[0m\u001b[0;34m\u001b[0m\u001b[0;34m\u001b[0m\u001b[0m\n\u001b[0m\u001b[1;32m     70\u001b[0m   \u001b[0;31m# Mapping from original filename to filename as saved locally.\u001b[0m\u001b[0;34m\u001b[0m\u001b[0;34m\u001b[0m\u001b[0m\n\u001b[1;32m     71\u001b[0m   \u001b[0mlocal_filenames\u001b[0m \u001b[0;34m=\u001b[0m \u001b[0mdict\u001b[0m\u001b[0;34m(\u001b[0m\u001b[0;34m)\u001b[0m\u001b[0;34m\u001b[0m\u001b[0;34m\u001b[0m\u001b[0m\n",
            "\u001b[0;32m/usr/local/lib/python3.10/dist-packages/google/colab/files.py\u001b[0m in \u001b[0;36m_upload_files\u001b[0;34m(multiple)\u001b[0m\n\u001b[1;32m    162\u001b[0m \u001b[0;34m\u001b[0m\u001b[0m\n\u001b[1;32m    163\u001b[0m   \u001b[0;32mwhile\u001b[0m \u001b[0mresult\u001b[0m\u001b[0;34m[\u001b[0m\u001b[0;34m'action'\u001b[0m\u001b[0;34m]\u001b[0m \u001b[0;34m!=\u001b[0m \u001b[0;34m'complete'\u001b[0m\u001b[0;34m:\u001b[0m\u001b[0;34m\u001b[0m\u001b[0;34m\u001b[0m\u001b[0m\n\u001b[0;32m--> 164\u001b[0;31m     result = _output.eval_js(\n\u001b[0m\u001b[1;32m    165\u001b[0m         'google.colab._files._uploadFilesContinue(\"{output_id}\")'.format(\n\u001b[1;32m    166\u001b[0m             \u001b[0moutput_id\u001b[0m\u001b[0;34m=\u001b[0m\u001b[0moutput_id\u001b[0m\u001b[0;34m\u001b[0m\u001b[0;34m\u001b[0m\u001b[0m\n",
            "\u001b[0;32m/usr/local/lib/python3.10/dist-packages/google/colab/output/_js.py\u001b[0m in \u001b[0;36meval_js\u001b[0;34m(script, ignore_result, timeout_sec)\u001b[0m\n\u001b[1;32m     38\u001b[0m   \u001b[0;32mif\u001b[0m \u001b[0mignore_result\u001b[0m\u001b[0;34m:\u001b[0m\u001b[0;34m\u001b[0m\u001b[0;34m\u001b[0m\u001b[0m\n\u001b[1;32m     39\u001b[0m     \u001b[0;32mreturn\u001b[0m\u001b[0;34m\u001b[0m\u001b[0;34m\u001b[0m\u001b[0m\n\u001b[0;32m---> 40\u001b[0;31m   \u001b[0;32mreturn\u001b[0m \u001b[0m_message\u001b[0m\u001b[0;34m.\u001b[0m\u001b[0mread_reply_from_input\u001b[0m\u001b[0;34m(\u001b[0m\u001b[0mrequest_id\u001b[0m\u001b[0;34m,\u001b[0m \u001b[0mtimeout_sec\u001b[0m\u001b[0;34m)\u001b[0m\u001b[0;34m\u001b[0m\u001b[0;34m\u001b[0m\u001b[0m\n\u001b[0m\u001b[1;32m     41\u001b[0m \u001b[0;34m\u001b[0m\u001b[0m\n\u001b[1;32m     42\u001b[0m \u001b[0;34m\u001b[0m\u001b[0m\n",
            "\u001b[0;32m/usr/local/lib/python3.10/dist-packages/google/colab/_message.py\u001b[0m in \u001b[0;36mread_reply_from_input\u001b[0;34m(message_id, timeout_sec)\u001b[0m\n\u001b[1;32m     94\u001b[0m     \u001b[0mreply\u001b[0m \u001b[0;34m=\u001b[0m \u001b[0m_read_next_input_message\u001b[0m\u001b[0;34m(\u001b[0m\u001b[0;34m)\u001b[0m\u001b[0;34m\u001b[0m\u001b[0;34m\u001b[0m\u001b[0m\n\u001b[1;32m     95\u001b[0m     \u001b[0;32mif\u001b[0m \u001b[0mreply\u001b[0m \u001b[0;34m==\u001b[0m \u001b[0m_NOT_READY\u001b[0m \u001b[0;32mor\u001b[0m \u001b[0;32mnot\u001b[0m \u001b[0misinstance\u001b[0m\u001b[0;34m(\u001b[0m\u001b[0mreply\u001b[0m\u001b[0;34m,\u001b[0m \u001b[0mdict\u001b[0m\u001b[0;34m)\u001b[0m\u001b[0;34m:\u001b[0m\u001b[0;34m\u001b[0m\u001b[0;34m\u001b[0m\u001b[0m\n\u001b[0;32m---> 96\u001b[0;31m       \u001b[0mtime\u001b[0m\u001b[0;34m.\u001b[0m\u001b[0msleep\u001b[0m\u001b[0;34m(\u001b[0m\u001b[0;36m0.025\u001b[0m\u001b[0;34m)\u001b[0m\u001b[0;34m\u001b[0m\u001b[0;34m\u001b[0m\u001b[0m\n\u001b[0m\u001b[1;32m     97\u001b[0m       \u001b[0;32mcontinue\u001b[0m\u001b[0;34m\u001b[0m\u001b[0;34m\u001b[0m\u001b[0m\n\u001b[1;32m     98\u001b[0m     if (\n",
            "\u001b[0;31mKeyboardInterrupt\u001b[0m: "
          ]
        }
      ],
      "source": [
        "#!/usr/bin/env python3\n",
        "#%% Import modules\n",
        "import sys\n",
        "sys.path.insert(0, '/u/sw/toolchains/gcc-glibc/11.2.0/pkgs/scipy/1.7.0/lib/python3.9/site-packages')\n",
        "\n",
        "import numpy as np\n",
        "import matplotlib\n",
        "import matplotlib.pyplot as plt\n",
        "import tensorflow as tf\n",
        "# We configure TensorFlow to work in double precision\n",
        "tf.keras.backend.set_floatx('float64')\n",
        "\n",
        "from google.colab import files\n",
        "uploaded = files.upload()\n",
        "\n",
        "import utils\n",
        "import optimization\n",
        "import os\n"
      ]
    },
    {
      "cell_type": "code",
      "source": [
        "from google.colab import drive\n",
        "drive.mount('/content/drive')"
      ],
      "metadata": {
        "id": "njJdx-eSbC-X"
      },
      "execution_count": null,
      "outputs": []
    },
    {
      "cell_type": "markdown",
      "source": [
        "# **Set some hyperparameters**"
      ],
      "metadata": {
        "id": "G9qb17JAVxK7"
      }
    },
    {
      "cell_type": "code",
      "source": [
        "\n",
        "#%% Set some hyperparameters\n",
        "dt = 2.27e-03\n",
        "dt_base = 1.04e-1\n",
        "num_latent_states = 9\n"
      ],
      "metadata": {
        "id": "PFtpu76DVWd_"
      },
      "execution_count": 4,
      "outputs": []
    },
    {
      "cell_type": "markdown",
      "source": [
        "# **Define problem**"
      ],
      "metadata": {
        "id": "AbGDYpcBWAxI"
      }
    },
    {
      "cell_type": "code",
      "source": [
        "#%% Define problem\n",
        "problem = {\n",
        "    \"space\": {\n",
        "        \"dimension\" : 3\n",
        "    },\n",
        "    #\"input_parameters\": [\n",
        "    #    { \"name\": \"diameter\" }\n",
        "    #],\n",
        "    #\"input_signals\": [\n",
        "    #    { \"name\": \"impulse\" }\n",
        "    #],\n",
        "    \"output_fields\": [\n",
        "        { \"name\": \"u\" }\n",
        "    ]\n",
        "}\n",
        "\n",
        "normalization = {\n",
        "    'space': { 'min' : [0], 'max' : [+100.0]},\n",
        "    'time': { 'time_constant' : dt_base },\n",
        "    #'input_parameters': {\n",
        "    #    'diameter': { 'min': 1.0 , 'max': 10.0 },\n",
        "    #},\n",
        "    #'input_signals': {\n",
        "    #    'impulse': { 'min':   0.0 , 'max': 1.0},\n",
        "    #},\n",
        "    'output_fields': {\n",
        "        'u': { 'min': 0.0, \"max\": 1.0 }\n",
        "    }\n",
        "}\n",
        "\n",
        "\n"
      ],
      "metadata": {
        "id": "dVBY5bZFWGdn"
      },
      "execution_count": 5,
      "outputs": []
    },
    {
      "cell_type": "markdown",
      "source": [
        "#**Dataset**"
      ],
      "metadata": {
        "id": "yPlWczoqWXeL"
      }
    },
    {
      "cell_type": "code",
      "source": [
        "#%% Dataset\n",
        "data_set_path = '/content/data/LA_healthy/'\n",
        "\n",
        "import scipy.io\n",
        "mat_1 = scipy.io.loadmat('/content/data/LA_healthy/sample_1.mat')\n",
        "#print(mat_1.keys())\n",
        "\n",
        "dataset_train = utils.LAhealthy_create_dataset(data_set_path, 0, 1)\n",
        "dataset_valid = utils.LAhealthy_create_dataset(data_set_path, 0, 1)\n",
        "dataset_tests = utils.LAhealthy_create_dataset(data_set_path, 0, 1)\n",
        "\n",
        "# For reproducibility (delete if you want to test other random initializations)\n",
        "np.random.seed(0)\n",
        "tf.random.set_seed(0)\n",
        "\n",
        "n_subsample = 2000\n",
        "\n",
        "# We re-sample the time transients with timestep dt and we rescale each variable between -1 and 1.\n",
        "utils.process_dataset(dataset_train, problem, normalization, dt = dt, num_points_subsample = n_subsample)\n",
        "utils.process_dataset(dataset_valid, problem, normalization, dt = dt, num_points_subsample = n_subsample)\n",
        "utils.process_dataset(dataset_tests, problem, normalization, dt = dt)\n"
      ],
      "metadata": {
        "colab": {
          "base_uri": "https://localhost:8080/"
        },
        "id": "96A7QFZbWPi9",
        "outputId": "fb0bad29-5ed8-416d-dfd1-736356a40169"
      },
      "execution_count": 13,
      "outputs": [
        {
          "output_type": "stream",
          "name": "stdout",
          "text": [
            "loading dataset 1\n",
            "loading dataset 1\n",
            "loading dataset 1\n"
          ]
        }
      ]
    },
    {
      "cell_type": "markdown",
      "source": [
        "#**Model construction**"
      ],
      "metadata": {
        "id": "yb_QCQ0ZWd7p"
      }
    },
    {
      "cell_type": "code",
      "source": [
        "#%% Model construction\n",
        "'''\n",
        "# dynamics network\n",
        "input_shape = (num_latent_states,)# + len(problem['input_signals']) + len(problem['input_parameters']),)\n",
        "NNdyn = tf.keras.Sequential([\n",
        "            tf.keras.layers.Dense(28, activation = tf.nn.tanh, input_shape = input_shape),\n",
        "            tf.keras.layers.Dense(28, activation = tf.nn.tanh),\n",
        "            tf.keras.layers.Dense(28, activation = tf.nn.tanh),\n",
        "            tf.keras.layers.Dense(28, activation = tf.nn.tanh),\n",
        "            tf.keras.layers.Dense(28, activation = tf.nn.tanh),\n",
        "            tf.keras.layers.Dense(28, activation = tf.nn.tanh),\n",
        "            tf.keras.layers.Dense(28, activation = tf.nn.tanh),\n",
        "            tf.keras.layers.Dense(28, activation = tf.nn.tanh),\n",
        "            tf.keras.layers.Dense(28, activation = tf.nn.tanh),\n",
        "            tf.keras.layers.Dense(28, activation = tf.nn.tanh),\n",
        "            tf.keras.layers.Dense(num_latent_states)\n",
        "        ])\n",
        "NNdyn.summary()\n",
        "\n",
        "# reconstruction network\n",
        "input_shape = (None, None, num_latent_states + problem['space']['dimension'])\n",
        "NNrec = tf.keras.Sequential([\n",
        "            tf.keras.layers.Dense(22, activation = tf.nn.tanh, input_shape = input_shape),\n",
        "            tf.keras.layers.Dense(22, activation = tf.nn.tanh),\n",
        "            tf.keras.layers.Dense(22, activation = tf.nn.tanh),\n",
        "            tf.keras.layers.Dense(22, activation = tf.nn.tanh),\n",
        "            tf.keras.layers.Dense(22, activation = tf.nn.tanh),\n",
        "            tf.keras.layers.Dense(len(problem['output_fields']))\n",
        "        ])\n",
        "NNrec.summary()\n",
        "'''\n",
        "\n",
        "# Carica i modelli allenati\n",
        "NNdyn = tf.keras.models.load_model(f'/content/LDNets-main/src/Models/NNdyn_model_{n_subsample}.h5')\n",
        "NNrec = tf.keras.models.load_model(f'/content/LDNets-main/src/Models/NNrec_model_{n_subsample}.h5')"
      ],
      "metadata": {
        "colab": {
          "base_uri": "https://localhost:8080/",
          "height": 198
        },
        "id": "1qtIxhejWgFk",
        "outputId": "27639886-f590-4a4e-f90f-e6e2eadafd27"
      },
      "execution_count": 1,
      "outputs": [
        {
          "output_type": "error",
          "ename": "NameError",
          "evalue": "name 'tf' is not defined",
          "traceback": [
            "\u001b[0;31m---------------------------------------------------------------------------\u001b[0m",
            "\u001b[0;31mNameError\u001b[0m                                 Traceback (most recent call last)",
            "\u001b[0;32m<ipython-input-1-4b773714c870>\u001b[0m in \u001b[0;36m<cell line: 34>\u001b[0;34m()\u001b[0m\n\u001b[1;32m     32\u001b[0m \u001b[0;34m\u001b[0m\u001b[0m\n\u001b[1;32m     33\u001b[0m \u001b[0;31m# Carica i modelli allenati\u001b[0m\u001b[0;34m\u001b[0m\u001b[0;34m\u001b[0m\u001b[0m\n\u001b[0;32m---> 34\u001b[0;31m \u001b[0mNNdyn\u001b[0m \u001b[0;34m=\u001b[0m \u001b[0mtf\u001b[0m\u001b[0;34m.\u001b[0m\u001b[0mkeras\u001b[0m\u001b[0;34m.\u001b[0m\u001b[0mmodels\u001b[0m\u001b[0;34m.\u001b[0m\u001b[0mload_model\u001b[0m\u001b[0;34m(\u001b[0m\u001b[0;34mf'/content/LDNets-main/src/Models/NNdyn_model_{n_subsample}.h5'\u001b[0m\u001b[0;34m)\u001b[0m\u001b[0;34m\u001b[0m\u001b[0;34m\u001b[0m\u001b[0m\n\u001b[0m\u001b[1;32m     35\u001b[0m \u001b[0mNNrec\u001b[0m \u001b[0;34m=\u001b[0m \u001b[0mtf\u001b[0m\u001b[0;34m.\u001b[0m\u001b[0mkeras\u001b[0m\u001b[0;34m.\u001b[0m\u001b[0mmodels\u001b[0m\u001b[0;34m.\u001b[0m\u001b[0mload_model\u001b[0m\u001b[0;34m(\u001b[0m\u001b[0;34mf'/content/LDNets-main/src/Models/NNrec_model_{n_subsample}.h5'\u001b[0m\u001b[0;34m)\u001b[0m\u001b[0;34m\u001b[0m\u001b[0;34m\u001b[0m\u001b[0m\n",
            "\u001b[0;31mNameError\u001b[0m: name 'tf' is not defined"
          ]
        }
      ]
    },
    {
      "cell_type": "code",
      "source": [
        "def evolve_dynamics(dataset):\n",
        "    # intial condition\n",
        "    state = tf.zeros((dataset['num_samples'], num_latent_states), dtype=tf.float64) #Inizializzazione dello stato latente con un tensore di zeri\n",
        "    state_history = tf.TensorArray(tf.float64, size = dataset['num_times']) #TensorArray che tiene traccia della storia degli stati latenti nel tempo. dim = n. passi temporali\n",
        "    state_history = state_history.write(0, state) #Registrazione stato iniziale (t=0) nel TensorArray\n",
        "    dt_ref = normalization['time']['time_constant'] #Riferimento temporale per la normalizzazione di dt\n",
        "\n",
        "    # time integration\n",
        "    for i in tf.range(dataset['num_times'] - 1):\n",
        "        state = state + dt/dt_ref * NNdyn(tf.concat([state], axis = -1)) # dataset['inp_parameters'], dataset['inp_signals'][:,i,:]], axis = -1)) #Aggiornamento dello stato corrente mediante l'aggiunta della variazione\n",
        "        state_history = state_history.write(i + 1, state) #Memorizzazione del nuovo stato nel TensorArray\n",
        "\n",
        "    return tf.transpose(state_history.stack(), perm=(1,0,2)) #Restituzione dell'intera storia degli stati attraverso il tempo per tutti i campioni simulati.\n",
        "\n",
        "def reconstruct_output(dataset, states):\n",
        "    states_expanded = tf.broadcast_to(tf.expand_dims(states, axis = 2), #expand_dims aggiunge una nuova dimensione all'indice 2 del tensore states\n",
        "        [dataset['num_samples'], dataset['num_times'], dataset['num_points'], num_latent_states]) #Il broadcasting è un'operazione che espande un tensore lungo una dimensione senza dover replicare fisicamente i dati, consentendo di operare su tensori con forme compatibili.\n",
        "    return NNrec(tf.concat([states_expanded, dataset['points_full']], axis = 3)) #Rete neurale applicata alla concatenazione di states_expanded con dataset[points_full] restituendo il campo fisico\n",
        "\n",
        "def LDNet(dataset):\n",
        "    states = evolve_dynamics(dataset) #evoluzione temporale degli stati latenti\n",
        "    return reconstruct_output(dataset, states) #ricostruzione dell'output\n",
        "\n",
        "# Loss function\n",
        "def MSE(dataset):\n",
        "    out_fields = LDNet(dataset)\n",
        "    error = out_fields - dataset['out_fields']\n",
        "    return tf.reduce_mean(tf.square(error))\n",
        "\n",
        "def weights_reg(NN):\n",
        "    return sum([tf.reduce_mean(tf.square(lay.kernel)) for lay in NN.layers])/len(NN.layers)\n",
        "\n",
        "alpha_reg = 4.81e-4\n",
        "def loss(): return MSE(dataset_train) + alpha_reg * (weights_reg(NNdyn) + weights_reg(NNrec))\n",
        "def MSE_valid(): return MSE(dataset_valid)"
      ],
      "metadata": {
        "id": "df26EmkaWpTX"
      },
      "execution_count": null,
      "outputs": []
    },
    {
      "cell_type": "markdown",
      "source": [
        "#**Training**"
      ],
      "metadata": {
        "id": "NY-5PXg8WhFG"
      }
    },
    {
      "cell_type": "code",
      "source": [
        "#%% Training\n",
        "trainable_variables = NNdyn.variables + NNrec.variables\n",
        "opt = optimization.OptimizationProblem(trainable_variables, loss, MSE_valid)\n",
        "\n",
        "#num_epochs_Adam = 100\n",
        "num_epochs_BFGS = 1000\n",
        "\n",
        "#print('training (Adam)...')\n",
        "#opt.optimize_keras(num_epochs_Adam, tf.keras.optimizers.Adam(learning_rate=1e-2))\n",
        "print('training (BFGS)...')\n",
        "opt.optimize_BFGS(num_epochs_BFGS)\n",
        "\n",
        "\n",
        "fig, axs = plt.subplots(1, 1)\n",
        "axs.loglog(opt.iterations_history, opt.loss_train_history, 'o-', label = 'training loss')\n",
        "axs.loglog(opt.iterations_history, opt.loss_valid_history, 'o-', label = 'validation loss')\n",
        "#axs.axvline(num_epochs_Adam)\n",
        "axs.set_xlabel('epochs'), plt.ylabel('loss')\n",
        "axs.legend()\n",
        "fig.savefig('training_loss.png')\n",
        "\n",
        "# Salva il modello allenato\n",
        "NNdyn.save(os.path.join('/content/LDNets-main/src/Models/', f'NNdyn_model_{n_subsample}.h5'))\n",
        "NNrec.save(os.path.join('/content/LDNets-main/src/Models/', f'NNrec_model_{n_subsample}.h5'))\n",
        "\n",
        "'''\n",
        "# Carica i modelli allenati\n",
        "NNdyn = tf.keras.models.load_model(f'/home/martadr/Scrivania/TESI/LDNets/LDNets-main/src/Models/NNdyn_model_{n_subsample}.h5')\n",
        "NNrec = tf.keras.models.load_model(f'/home/martadr/Scrivania/TESI/LDNets/LDNets-main/src/Models/NNrec_model_{n_subsample}.h5')\n",
        "'''"
      ],
      "metadata": {
        "id": "uV-Gp3OnWs7D"
      },
      "execution_count": null,
      "outputs": []
    },
    {
      "cell_type": "markdown",
      "source": [
        "#**Testing**"
      ],
      "metadata": {
        "id": "fEF3XsevW6Hc"
      }
    },
    {
      "cell_type": "code",
      "source": [
        "#%% Testing\n",
        "# Compute predictions.\n",
        "out_fields = LDNet(dataset_tests)\n",
        "# Since the models work with normalized data, we map back the outputs into the original ranges.\n",
        "out_fields_FOM = utils.denormalize_output(dataset_tests['out_fields'], problem, normalization).numpy()\n",
        "out_fields_ROM = utils.denormalize_output(out_fields                 , problem, normalization).numpy()\n",
        "\n",
        "NRMSE = np.sqrt(np.mean(np.square(out_fields_ROM - out_fields_FOM))) / (np.max(out_fields_FOM) - np.min(out_fields_FOM))\n",
        "\n",
        "import scipy.stats\n",
        "R_coeff = scipy.stats.pearsonr(np.reshape(out_fields_ROM, (-1,)), np.reshape(out_fields_FOM, (-1,)))\n",
        "\n",
        "print('Normalized RMSE:       %1.3e' % NRMSE)\n",
        "print('Pearson dissimilarity: %1.3e' % (1 - R_coeff[0]))"
      ],
      "metadata": {
        "id": "5cZOH9sQWyXF"
      },
      "execution_count": null,
      "outputs": []
    },
    {
      "cell_type": "markdown",
      "source": [
        "#**Postprocessing**"
      ],
      "metadata": {
        "id": "7BUaHDtDW7ZH"
      }
    },
    {
      "cell_type": "code",
      "source": [
        "#%% Postprocessing\n",
        "\n",
        "import pyvista as pv\n",
        "\n",
        "#print(type(dataset_tests['points']))\n",
        "\n",
        "coordinates = dataset_tests['points']\n",
        "#print(out_fields_ROM.shape[1])\n",
        "\n",
        "\n",
        "for t in range(out_fields_ROM.shape[1]):\n",
        "\n",
        "    # Estrai i valori del potenziale per il tempo t\n",
        "    potenziali_ROM = out_fields_ROM[0, t, :, 0]\n",
        "\n",
        "    #potenziali_ROM_max_t = np.max(potenziali_ROM)\n",
        "    #potenziali_ROM_max.append(potenziali_ROM_max_t)\n",
        "\n",
        "    # Crea una griglia PyVista con le coordinate\n",
        "    grid_ROM = pv.PolyData(coordinates)\n",
        "    grid_ROM['Potential'] = potenziali_ROM  # Aggiungi i valori del potenziale come dati scalari\n",
        "\n",
        "    # Specifica la cartella di destinazione (puoi usare un percorso assoluto o relativo)\n",
        "    output_folder_ROM = f'/home/martadr/Scrivania/TESI/LDNets/results/LA_healthy_sample_1_ROM_{n_subsample}/'\n",
        "\n",
        "    # Crea la cartella se non esiste\n",
        "    if not os.path.exists(output_folder_ROM):\n",
        "        os.makedirs(output_folder_ROM)\n",
        "\n",
        "\n",
        "    grid_ROM.save(os.path.join(output_folder_ROM, f'data_time_{t}.vtk'))\n",
        "\n",
        "    '''\n",
        "    # Estrai i valori del potenziale per il tempo t\n",
        "    potenziali_FOM = out_fields_FOM[0, t, :, 0]\n",
        "\n",
        "    #print(potenziali.shape)\n",
        "\n",
        "    #potenziali_FOM_max_t = np.max(potenziali_FOM)\n",
        "    #potenziali_FOM_max.append(potenziali_FOM_max_t)\n",
        "\n",
        "    # Crea una griglia PyVista con le coordinate\n",
        "    grid_FOM = pv.PolyData(coordinates)\n",
        "    grid_FOM['Potential'] = potenziali_FOM  # Aggiungi i valori del potenziale come dati scalari\n",
        "\n",
        "    # Specifica la cartella di destinazione (puoi usare un percorso assoluto o relativo)\n",
        "    output_folder_FOM = f'/home/martadr/Scrivania/TESI/LDNets/results/LA_healthy_sample_1_FOM_{n_subsample}/'\n",
        "\n",
        "    # Crea la cartella se non esiste\n",
        "    if not os.path.exists(output_folder_FOM):\n",
        "        os.makedirs(output_folder_FOM)\n",
        "\n",
        "    # Costruisci il percorso completo per il file .vtk\n",
        "    filename_vtk_FOM = os.path.join(output_folder_FOM, f'data_time_{t}.vtk')\n",
        "\n",
        "    grid_FOM.save(filename_vtk_FOM)\n",
        "    '''\n",
        "\n",
        "\n",
        "#potenziali_ROM_max = np.array(potenziali_ROM_max)\n",
        "\n",
        "#print(np.max(potenziali_ROM_max))\n",
        "\n",
        "#potenziali_FOM_max = np.array(potenziali_FOM_max)\n",
        "\n",
        "#print(np.max(potenziali_FOM_max))"
      ],
      "metadata": {
        "id": "qpyerq-jXDU3"
      },
      "execution_count": null,
      "outputs": []
    }
  ]
}